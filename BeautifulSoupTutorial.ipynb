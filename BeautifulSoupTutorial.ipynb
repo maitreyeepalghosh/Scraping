{
 "cells": [
  {
   "cell_type": "code",
   "execution_count": 1,
   "metadata": {
    "collapsed": true
   },
   "outputs": [],
   "source": [
    "from bs4 import BeautifulSoup\n"
   ]
  },
  {
   "cell_type": "code",
   "execution_count": 10,
   "metadata": {
    "collapsed": true
   },
   "outputs": [],
   "source": [
    "# Let's create an example html to play with \n",
    "\n",
    "html=['<html><heading style=\"font-size:20px\"><i> This is the title. <br><br></i></heading>',\n",
    "     '<body><b> This is the body. </b><p id=\"para1\"> This is para1. <a href=\"www.google.com\">Google</a></p>',\n",
    "     '<p id=\"para2\"> This is para 2. </p></body></html>']\n",
    "html=''.join(html)\n",
    "# This just creates one string out of the list above\n"
   ]
  },
  {
   "cell_type": "code",
   "execution_count": 11,
   "metadata": {
    "collapsed": false
   },
   "outputs": [],
   "source": [
    "# Instantiate a soup object. This automatically identifies a structure in the html and creates a parse tree\n",
    "# you can navigate the structure/tree in the soup and extract pieces that you are interested in \n",
    "soup = BeautifulSoup(html,\"lxml\")\n"
   ]
  },
  {
   "cell_type": "code",
   "execution_count": 12,
   "metadata": {
    "collapsed": false
   },
   "outputs": [
    {
     "name": "stdout",
     "output_type": "stream",
     "text": [
      "<html>\n",
      " <body>\n",
      "  <heading style=\"font-size:20px\">\n",
      "   <i>\n",
      "    This is the title.\n",
      "    <br/>\n",
      "    <br/>\n",
      "   </i>\n",
      "  </heading>\n",
      "  <b>\n",
      "   This is the body.\n",
      "  </b>\n",
      "  <p id=\"para1\">\n",
      "   This is para1.\n",
      "   <a href=\"www.google.com\">\n",
      "    Google\n",
      "   </a>\n",
      "  </p>\n",
      "  <p id=\"para2\">\n",
      "   This is para 2.\n",
      "  </p>\n",
      " </body>\n",
      "</html>\n"
     ]
    }
   ],
   "source": [
    "# You can now print this html in a formatted, easy-to-read view\n",
    "print(soup.prettify())\n"
   ]
  },
  {
   "cell_type": "code",
   "execution_count": 13,
   "metadata": {
    "collapsed": false
   },
   "outputs": [
    {
     "data": {
      "text/plain": [
       "'html'"
      ]
     },
     "execution_count": 13,
     "metadata": {},
     "output_type": "execute_result"
    }
   ],
   "source": [
    "# At the top of the hierarchy in the parse tree is the <html></html> tag\n",
    "# Then comes the <body></body> tag\n",
    "# Within the body, the heading and paragraphs are 'siblings'\n",
    "# The body is the parent of these tags and the html tag is the parent of the body tag \n",
    "# Each tag has attributes - name, contents (a list), text, parent and siblings \n",
    "\n",
    "# name attribute is just the name of the tag \n",
    "soup.html.name\n"
   ]
  },
  {
   "cell_type": "code",
   "execution_count": 14,
   "metadata": {
    "collapsed": false
   },
   "outputs": [
    {
     "data": {
      "text/plain": [
       "'body'"
      ]
     },
     "execution_count": 14,
     "metadata": {},
     "output_type": "execute_result"
    }
   ],
   "source": [
    "#get the body tag \n",
    "soup.body.name\n"
   ]
  },
  {
   "cell_type": "code",
   "execution_count": 15,
   "metadata": {
    "collapsed": false
   },
   "outputs": [
    {
     "data": {
      "text/plain": [
       "u' This is the title.  This is the body.  This is para1. Google This is para 2. '"
      ]
     },
     "execution_count": 15,
     "metadata": {},
     "output_type": "execute_result"
    }
   ],
   "source": [
    "\n",
    "# text attribute will mush together all the text in all the children of that tag\n",
    "soup.body.text\n"
   ]
  },
  {
   "cell_type": "code",
   "execution_count": 18,
   "metadata": {
    "collapsed": false
   },
   "outputs": [
    {
     "name": "stdout",
     "output_type": "stream",
     "text": [
      "[<body><heading style=\"font-size:20px\"><i> This is the title. <br/><br/></i></heading><b> This is the body. </b><p id=\"para1\"> This is para1. <a href=\"www.google.com\">Google</a></p><p id=\"para2\"> This is para 2. </p></body>]\n"
     ]
    },
    {
     "data": {
      "text/plain": [
       "1"
      ]
     },
     "execution_count": 18,
     "metadata": {},
     "output_type": "execute_result"
    }
   ],
   "source": [
    "# contents is a list of the children of that tag\n",
    "# In our example, the html tag has only 1 child, the body tag has 4 children \n",
    "childLst=soup.html.contents\n",
    "print childLst\n",
    "len(childLst)\n"
   ]
  },
  {
   "cell_type": "code",
   "execution_count": 19,
   "metadata": {
    "collapsed": false
   },
   "outputs": [
    {
     "data": {
      "text/plain": [
       "[<heading style=\"font-size:20px\"><i> This is the title. <br/><br/></i></heading>,\n",
       " <b> This is the body. </b>,\n",
       " <p id=\"para1\"> This is para1. <a href=\"www.google.com\">Google</a></p>,\n",
       " <p id=\"para2\"> This is para 2. </p>]"
      ]
     },
     "execution_count": 19,
     "metadata": {},
     "output_type": "execute_result"
    }
   ],
   "source": [
    "soup.body.contents"
   ]
  },
  {
   "cell_type": "code",
   "execution_count": 20,
   "metadata": {
    "collapsed": false
   },
   "outputs": [
    {
     "data": {
      "text/plain": [
       "'html'"
      ]
     },
     "execution_count": 20,
     "metadata": {},
     "output_type": "execute_result"
    }
   ],
   "source": [
    "# parent and siblings referencing helps you navigate the parse tree\n",
    "soup.body.parent.name\n"
   ]
  },
  {
   "cell_type": "code",
   "execution_count": 21,
   "metadata": {
    "collapsed": false
   },
   "outputs": [
    {
     "data": {
      "text/plain": [
       "<p id=\"para1\"> This is para1. <a href=\"www.google.com\">Google</a></p>"
      ]
     },
     "execution_count": 21,
     "metadata": {},
     "output_type": "execute_result"
    }
   ],
   "source": [
    "soup.b.nextSibling\n"
   ]
  },
  {
   "cell_type": "code",
   "execution_count": 22,
   "metadata": {
    "collapsed": false
   },
   "outputs": [
    {
     "data": {
      "text/plain": [
       "<b> This is the body. </b>"
      ]
     },
     "execution_count": 22,
     "metadata": {},
     "output_type": "execute_result"
    }
   ],
   "source": [
    "soup.p.previousSibling\n"
   ]
  },
  {
   "cell_type": "code",
   "execution_count": 23,
   "metadata": {
    "collapsed": false
   },
   "outputs": [
    {
     "name": "stdout",
     "output_type": "stream",
     "text": [
      "[<b> This is the body. </b>]\n"
     ]
    }
   ],
   "source": [
    "# findAll, find are methods to search the tree for specific tags, or tags with certain attributes \n",
    "\n",
    "bold = soup.findAll('b')\n",
    "# This will find all the tags which have the text in bold (enclosed in <b></b> tags) and return a list\n",
    "print(bold)\n"
   ]
  },
  {
   "cell_type": "code",
   "execution_count": 24,
   "metadata": {
    "collapsed": false
   },
   "outputs": [
    {
     "name": "stdout",
     "output_type": "stream",
     "text": [
      " This is the body. \n"
     ]
    }
   ],
   "source": [
    "# to extract only the text, take each element of this list and get the text attribute\n",
    "print(bold[0].text)"
   ]
  },
  {
   "cell_type": "code",
   "execution_count": 25,
   "metadata": {
    "collapsed": false
   },
   "outputs": [
    {
     "name": "stdout",
     "output_type": "stream",
     "text": [
      " This is para1. Google  This is para 2. \n"
     ]
    }
   ],
   "source": [
    "# Let's get all the text that is in the paragraphs (enclosed in <p></p> tags) as a single string \n",
    "paras = ' '.join([p.text for p in soup.findAll('p')])\n",
    "print(paras)"
   ]
  },
  {
   "cell_type": "code",
   "execution_count": 26,
   "metadata": {
    "collapsed": false
   },
   "outputs": [
    {
     "data": {
      "text/plain": [
       "u' This is para 2. '"
      ]
     },
     "execution_count": 26,
     "metadata": {},
     "output_type": "execute_result"
    }
   ],
   "source": [
    "\n",
    "# findAll can look for attributes as well. Let's find the text for the paragraph with id 'para2'\n",
    "soup.findAll(id=\"para2\")[0].text\n",
    "#soup.findAll gives us a list, we pick the first element (there is only 1 element in this case) and print the text\n"
   ]
  },
  {
   "cell_type": "code",
   "execution_count": 27,
   "metadata": {
    "collapsed": false
   },
   "outputs": [
    {
     "name": "stdout",
     "output_type": "stream",
     "text": [
      " This is the title. \n"
     ]
    }
   ],
   "source": [
    "# Let's find any text with font size 20\n",
    "\n",
    "font20=' '.join([p.text for p in soup.findAll(style=\"font-size:20px\")])\n",
    "print(font20)\n",
    "\n"
   ]
  },
  {
   "cell_type": "code",
   "execution_count": 28,
   "metadata": {
    "collapsed": false
   },
   "outputs": [
    {
     "data": {
      "text/plain": [
       "[<b> This is the body. </b>,\n",
       " <p id=\"para1\"> This is para1. <a href=\"www.google.com\">Google</a></p>,\n",
       " <p id=\"para2\"> This is para 2. </p>]"
      ]
     },
     "execution_count": 28,
     "metadata": {},
     "output_type": "execute_result"
    }
   ],
   "source": [
    "# You can also pass in a list or a dictionary of tag names to search for \n",
    "soup.findAll(['b','p'])"
   ]
  },
  {
   "cell_type": "code",
   "execution_count": 29,
   "metadata": {
    "collapsed": false
   },
   "outputs": [
    {
     "data": {
      "text/plain": [
       "[<b> This is the body. </b>,\n",
       " <p id=\"para1\"> This is para1. <a href=\"www.google.com\">Google</a></p>,\n",
       " <p id=\"para2\"> This is para 2. </p>]"
      ]
     },
     "execution_count": 29,
     "metadata": {},
     "output_type": "execute_result"
    }
   ],
   "source": [
    "soup.findAll({'b':True,'p':True})"
   ]
  },
  {
   "cell_type": "code",
   "execution_count": 33,
   "metadata": {
    "collapsed": false
   },
   "outputs": [],
   "source": [
    "\n",
    "# Let's see how we can find links. This is super-useful - say you want to find all the links on a page and iterate through\n",
    "# them to do some scraping for each of those links \n",
    "links = soup.find('a')\n"
   ]
  },
  {
   "cell_type": "code",
   "execution_count": 32,
   "metadata": {
    "collapsed": false
   },
   "outputs": [
    {
     "name": "stdout",
     "output_type": "stream",
     "text": [
      "<a href=\"www.google.com\">Google</a>\n"
     ]
    }
   ],
   "source": [
    "# Links are generally of the form <a href='link'>'link-text'</a>\n",
    "print(links)"
   ]
  },
  {
   "cell_type": "code",
   "execution_count": 34,
   "metadata": {
    "collapsed": false
   },
   "outputs": [
    {
     "name": "stdout",
     "output_type": "stream",
     "text": [
      "www.google.com is the url and Google is the text\n"
     ]
    }
   ],
   "source": [
    "\n",
    "# Let's extract the url and the text separately \n",
    "print(links['href']+\" is the url and \"+links.text+\" is the text\")\n"
   ]
  },
  {
   "cell_type": "code",
   "execution_count": 35,
   "metadata": {
    "collapsed": false
   },
   "outputs": [
    {
     "data": {
      "text/plain": [
       "u' This is para 2. '"
      ]
     },
     "execution_count": 35,
     "metadata": {},
     "output_type": "execute_result"
    }
   ],
   "source": [
    "\n",
    "# find can navigate the parse tree as well. findParents, findNextSiblings,findPreviousSiblings all work \n",
    "# similar to findAll, but will search only within those branches of the tree. \n",
    "# findNext, findPrevious and findAllNext and findAllPrevious can be used to find matches starting from \n",
    "# a specified point. \n",
    "\n",
    "# Let's say you want the text of the first paragraph after the first occurrence of the text \"Google\" \n",
    "\n",
    "soup.find(text=\"Google\").findNext('p').text\n",
    "\n"
   ]
  },
  {
   "cell_type": "code",
   "execution_count": 36,
   "metadata": {
    "collapsed": false
   },
   "outputs": [
    {
     "data": {
      "text/plain": [
       "[<p id=\"para1\"> This is para1. <a href=\"www.google.com\">Google</a></p>,\n",
       " <p id=\"para2\"> This is para 2. </p>]"
      ]
     },
     "execution_count": 36,
     "metadata": {},
     "output_type": "execute_result"
    }
   ],
   "source": [
    "\n",
    "# A little shortcut to using findAll - if you call the tag itself as a function, you can use it in place of findAll\n",
    "# with the same arguments \n",
    "\n",
    "soup.body('p')\n"
   ]
  },
  {
   "cell_type": "code",
   "execution_count": 37,
   "metadata": {
    "collapsed": false
   },
   "outputs": [
    {
     "data": {
      "text/plain": [
       "[<p id=\"para1\"> This is para1. <a href=\"www.google.com\">Google</a></p>,\n",
       " <p id=\"para2\"> This is para 2. </p>]"
      ]
     },
     "execution_count": 37,
     "metadata": {},
     "output_type": "execute_result"
    }
   ],
   "source": [
    "\n",
    "soup.findAll('p')\n"
   ]
  },
  {
   "cell_type": "code",
   "execution_count": 38,
   "metadata": {
    "collapsed": true
   },
   "outputs": [],
   "source": [
    "#BeautifulSoup makes parsing html or xml very intuitive and elegant. Doing the same thing with regular expressions \n",
    "# is prone to leading you to pulling your hair out :) In most situations for screen-scraping projects, BeautifulSoup\n",
    "# is a life-saver! \n"
   ]
  },
  {
   "cell_type": "code",
   "execution_count": null,
   "metadata": {
    "collapsed": true
   },
   "outputs": [],
   "source": []
  }
 ],
 "metadata": {
  "kernelspec": {
   "display_name": "Python 2",
   "language": "python",
   "name": "python2"
  },
  "language_info": {
   "codemirror_mode": {
    "name": "ipython",
    "version": 2
   },
   "file_extension": ".py",
   "mimetype": "text/x-python",
   "name": "python",
   "nbconvert_exporter": "python",
   "pygments_lexer": "ipython2",
   "version": "2.7.13"
  }
 },
 "nbformat": 4,
 "nbformat_minor": 2
}

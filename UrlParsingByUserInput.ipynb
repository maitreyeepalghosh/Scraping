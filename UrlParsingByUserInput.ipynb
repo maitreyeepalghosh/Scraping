{
 "cells": [
  {
   "cell_type": "code",
   "execution_count": 1,
   "metadata": {
    "collapsed": true
   },
   "outputs": [],
   "source": [
    "# encoding: utf-8\n",
    "\n",
    "import urllib2\n",
    "import sys\n",
    "# these import statements allow us to use 'modules' aka 'libraries'such as urllib2 and sys\n",
    "# these modules are the code written by others that we can use"
   ]
  },
  {
   "cell_type": "code",
   "execution_count": 2,
   "metadata": {
    "collapsed": true
   },
   "outputs": [],
   "source": [
    " urlToRead ='http://www.google.com'"
   ]
  },
  {
   "cell_type": "code",
   "execution_count": 3,
   "metadata": {
    "collapsed": true
   },
   "outputs": [],
   "source": [
    "crawledWebLinks = {}\n",
    "# Initialize an empty dictionary, in which (key,value) pairs will \n",
    "# correspond to (shortname, url) eg (\"Google\" , \"http://www.google.com\")"
   ]
  },
  {
   "cell_type": "code",
   "execution_count": null,
   "metadata": {
    "collapsed": false
   },
   "outputs": [],
   "source": [
    "# OK, there's a while loop coming up now\n",
    "while urlToRead !='':\n",
    "    try:\n",
    "        urlToRead =input(\"Please enter the next URL to crawl\")\n",
    "        if urlToRead == \"\":\n",
    "            print(\"OK, exiting loop\")\n",
    "            break \n",
    "        shortName =input(\"Please enter a short name for that URL \"+ urlToRead)\n",
    "        #shortName = 'Google'\n",
    "        print \"==>\",shortName\n",
    "        print \"==>\",urlToRead\n",
    "        webFile =  urllib2.urlopen(urlToRead).read()\n",
    "        print \"===>\",webFile\n",
    "        # This line above uses a readymade function in the urllib2 module to\n",
    "        # do something super - cool: \n",
    "        # IT takes a url, goes to the website for that url, downloads the \n",
    "        # contents (which are in the form of HTML) and returns them to be \n",
    "        # stored in a string variable (here called webFile)\n",
    "        crawledWebLinks[shortName] = webFile\n",
    "        # this line above places a key value pair (shortname, HTML for that url)\n",
    "        # in the dictionary\n",
    "    except:\n",
    "        # this bit of code - the indented lines following 'except:' will be \n",
    "        # executed if the code in the try block (the indented lines following)\n",
    "        # the 'try:' above) throw and error\n",
    "        # this is an example of something known as exception-handling, on which \n",
    "        # much more later\n",
    "        print(\"********************\\nUnexpected Error****\",sys.exc_info()[0])\n",
    "        # The snip 'sys.exc_info()[0]' returns information about the last \n",
    "        # error that occurred - \n",
    "        # this code is made available through the sys library that we imported above. \n",
    "        # Quite Magical :) \n",
    "        stopOrProceed = input(\"Hmm..stop or proceed? Enter 1 to stop, enter anything else to continue\")\n",
    "        if stopOrProceed ==\"1\" : \n",
    "            print(\"Okey-dokey....stopping\\n\")\n",
    "            break\n",
    "            # this break will break out of the nearest loop - in this case, \n",
    "            # the while loop\n",
    "        else: \n",
    "            print(\"Cool! Let's continue\\n\")\n",
    "            continue\n",
    "            # this continue will skip out of the current iteration of this \n",
    "            # loop and move to the next i.e. the loop will reset to the start\n",
    "    print(\"Note this indentation - this line is inside the while loop, but outside the try/catch block\")\n",
    "print(\" Note this indentation - this line is entirely outside the loop \")\n",
    "print(crawledWebLinks.keys())\n"
   ]
  },
  {
   "cell_type": "code",
   "execution_count": null,
   "metadata": {
    "collapsed": true
   },
   "outputs": [],
   "source": [
    "\n"
   ]
  }
 ],
 "metadata": {
  "kernelspec": {
   "display_name": "Python 2",
   "language": "python",
   "name": "python2"
  },
  "language_info": {
   "codemirror_mode": {
    "name": "ipython",
    "version": 2
   },
   "file_extension": ".py",
   "mimetype": "text/x-python",
   "name": "python",
   "nbconvert_exporter": "python",
   "pygments_lexer": "ipython2",
   "version": "2.7.13"
  }
 },
 "nbformat": 4,
 "nbformat_minor": 2
}
